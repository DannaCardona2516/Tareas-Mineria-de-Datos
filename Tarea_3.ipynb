{
 "cells": [
  {
   "cell_type": "markdown",
   "metadata": {},
   "source": [
    "# <span style=\"color:darkred\"><center>Tarea: Regresión y Clasificación</center></span>"
   ]
  },
  {
   "cell_type": "markdown",
   "metadata": {},
   "source": [
    "## <span style=\"color:maroon\">Presentado por</span>\n",
    "Danna Lizeth Cardona Hernández, dlcardonah@unal.edu.co. Estudiante del departamento de **Estadística** de la Facultad de Ciencias, Universidad Nacional de Colombia sede Bogotá. [Info-Depto Estadística.](http://ciencias.bogota.unal.edu.co/departamentos/departamento-de-estadistica/el-departamento/)"
   ]
  },
  {
   "cell_type": "markdown",
   "metadata": {},
   "source": [
    "# <span style=\"color:maroon\">Ejercicio 1</span>\n",
    "## <span style=\"color:maroon\">Red neuronal de clasificación binaria para predecir el cáncer de seno</span>"
   ]
  },
  {
   "cell_type": "markdown",
   "metadata": {},
   "source": [
    "### <span style=\"color:green\">Introducción</span>\n",
    "\n",
    "En esta lección construimos un modelo predictivo de regresión logística usando los datos de cáncer de la Universidad de Wisconsin.\n",
    "\n",
    "Usaremos la funciones de activación *relu* y *sigmoid* y el regularizador *Dropout*. Adicionalmente introducimos el  modo 2 de escribir un modelo *Sequiential*.\n",
    "\n",
    "Finalmente se construye una matriz de confusión para el problema."
   ]
  },
  {
   "cell_type": "markdown",
   "metadata": {},
   "source": [
    "### <span style=\"color:green\"> Importa módulos</span>"
   ]
  },
  {
   "cell_type": "code",
   "execution_count": 1,
   "metadata": {},
   "outputs": [],
   "source": [
    "try:\n",
    "  %tensorflow_version 2.x\n",
    "except Exception:\n",
    "  pass"
   ]
  },
  {
   "cell_type": "code",
   "execution_count": 2,
   "metadata": {},
   "outputs": [
    {
     "name": "stdout",
     "output_type": "stream",
     "text": [
      "2.4.1\n"
     ]
    }
   ],
   "source": [
    "from __future__ import absolute_import, division, print_function, unicode_literals\n",
    "#\n",
    "import pandas as pd\n",
    "import matplotlib.pyplot as plt\n",
    "import seaborn as sns\n",
    "import tensorflow as tf\n",
    "#\n",
    "from tensorflow.keras.models import Sequential\n",
    "#\n",
    "from tensorflow.keras.layers import Dense, Dropout\n",
    "#\n",
    "from tensorflow.keras.utils import plot_model\n",
    "#\n",
    "from sklearn.preprocessing import LabelEncoder\n",
    "from sklearn.model_selection import train_test_split\n",
    "from sklearn.preprocessing import StandardScaler\n",
    "from sklearn.metrics import confusion_matrix\n",
    "#\n",
    "print(tf.__version__)"
   ]
  },
  {
   "cell_type": "markdown",
   "metadata": {},
   "source": [
    "### <span style=\"color:green\"> Lectura de datos</span>"
   ]
  },
  {
   "cell_type": "code",
   "execution_count": 3,
   "metadata": {},
   "outputs": [
    {
     "data": {
      "text/html": [
       "<div>\n",
       "<style scoped>\n",
       "    .dataframe tbody tr th:only-of-type {\n",
       "        vertical-align: middle;\n",
       "    }\n",
       "\n",
       "    .dataframe tbody tr th {\n",
       "        vertical-align: top;\n",
       "    }\n",
       "\n",
       "    .dataframe thead th {\n",
       "        text-align: right;\n",
       "    }\n",
       "</style>\n",
       "<table border=\"1\" class=\"dataframe\">\n",
       "  <thead>\n",
       "    <tr style=\"text-align: right;\">\n",
       "      <th></th>\n",
       "      <th>id</th>\n",
       "      <th>diagnosis</th>\n",
       "      <th>radius_mean</th>\n",
       "      <th>texture_mean</th>\n",
       "      <th>perimeter_mean</th>\n",
       "      <th>area_mean</th>\n",
       "      <th>smoothness_mean</th>\n",
       "      <th>compactness_mean</th>\n",
       "      <th>concavity_mean</th>\n",
       "      <th>concave points_mean</th>\n",
       "      <th>...</th>\n",
       "      <th>radius_worst</th>\n",
       "      <th>texture_worst</th>\n",
       "      <th>perimeter_worst</th>\n",
       "      <th>area_worst</th>\n",
       "      <th>smoothness_worst</th>\n",
       "      <th>compactness_worst</th>\n",
       "      <th>concavity_worst</th>\n",
       "      <th>concave points_worst</th>\n",
       "      <th>symmetry_worst</th>\n",
       "      <th>fractal_dimension_worst</th>\n",
       "    </tr>\n",
       "  </thead>\n",
       "  <tbody>\n",
       "    <tr>\n",
       "      <th>0</th>\n",
       "      <td>842302</td>\n",
       "      <td>M</td>\n",
       "      <td>17.99</td>\n",
       "      <td>10.38</td>\n",
       "      <td>122.80</td>\n",
       "      <td>1001.0</td>\n",
       "      <td>0.11840</td>\n",
       "      <td>0.27760</td>\n",
       "      <td>0.3001</td>\n",
       "      <td>0.14710</td>\n",
       "      <td>...</td>\n",
       "      <td>25.38</td>\n",
       "      <td>17.33</td>\n",
       "      <td>184.60</td>\n",
       "      <td>2019.0</td>\n",
       "      <td>0.1622</td>\n",
       "      <td>0.6656</td>\n",
       "      <td>0.7119</td>\n",
       "      <td>0.2654</td>\n",
       "      <td>0.4601</td>\n",
       "      <td>0.11890</td>\n",
       "    </tr>\n",
       "    <tr>\n",
       "      <th>1</th>\n",
       "      <td>842517</td>\n",
       "      <td>M</td>\n",
       "      <td>20.57</td>\n",
       "      <td>17.77</td>\n",
       "      <td>132.90</td>\n",
       "      <td>1326.0</td>\n",
       "      <td>0.08474</td>\n",
       "      <td>0.07864</td>\n",
       "      <td>0.0869</td>\n",
       "      <td>0.07017</td>\n",
       "      <td>...</td>\n",
       "      <td>24.99</td>\n",
       "      <td>23.41</td>\n",
       "      <td>158.80</td>\n",
       "      <td>1956.0</td>\n",
       "      <td>0.1238</td>\n",
       "      <td>0.1866</td>\n",
       "      <td>0.2416</td>\n",
       "      <td>0.1860</td>\n",
       "      <td>0.2750</td>\n",
       "      <td>0.08902</td>\n",
       "    </tr>\n",
       "    <tr>\n",
       "      <th>2</th>\n",
       "      <td>84300903</td>\n",
       "      <td>M</td>\n",
       "      <td>19.69</td>\n",
       "      <td>21.25</td>\n",
       "      <td>130.00</td>\n",
       "      <td>1203.0</td>\n",
       "      <td>0.10960</td>\n",
       "      <td>0.15990</td>\n",
       "      <td>0.1974</td>\n",
       "      <td>0.12790</td>\n",
       "      <td>...</td>\n",
       "      <td>23.57</td>\n",
       "      <td>25.53</td>\n",
       "      <td>152.50</td>\n",
       "      <td>1709.0</td>\n",
       "      <td>0.1444</td>\n",
       "      <td>0.4245</td>\n",
       "      <td>0.4504</td>\n",
       "      <td>0.2430</td>\n",
       "      <td>0.3613</td>\n",
       "      <td>0.08758</td>\n",
       "    </tr>\n",
       "    <tr>\n",
       "      <th>3</th>\n",
       "      <td>84348301</td>\n",
       "      <td>M</td>\n",
       "      <td>11.42</td>\n",
       "      <td>20.38</td>\n",
       "      <td>77.58</td>\n",
       "      <td>386.1</td>\n",
       "      <td>0.14250</td>\n",
       "      <td>0.28390</td>\n",
       "      <td>0.2414</td>\n",
       "      <td>0.10520</td>\n",
       "      <td>...</td>\n",
       "      <td>14.91</td>\n",
       "      <td>26.50</td>\n",
       "      <td>98.87</td>\n",
       "      <td>567.7</td>\n",
       "      <td>0.2098</td>\n",
       "      <td>0.8663</td>\n",
       "      <td>0.6869</td>\n",
       "      <td>0.2575</td>\n",
       "      <td>0.6638</td>\n",
       "      <td>0.17300</td>\n",
       "    </tr>\n",
       "    <tr>\n",
       "      <th>4</th>\n",
       "      <td>84358402</td>\n",
       "      <td>M</td>\n",
       "      <td>20.29</td>\n",
       "      <td>14.34</td>\n",
       "      <td>135.10</td>\n",
       "      <td>1297.0</td>\n",
       "      <td>0.10030</td>\n",
       "      <td>0.13280</td>\n",
       "      <td>0.1980</td>\n",
       "      <td>0.10430</td>\n",
       "      <td>...</td>\n",
       "      <td>22.54</td>\n",
       "      <td>16.67</td>\n",
       "      <td>152.20</td>\n",
       "      <td>1575.0</td>\n",
       "      <td>0.1374</td>\n",
       "      <td>0.2050</td>\n",
       "      <td>0.4000</td>\n",
       "      <td>0.1625</td>\n",
       "      <td>0.2364</td>\n",
       "      <td>0.07678</td>\n",
       "    </tr>\n",
       "  </tbody>\n",
       "</table>\n",
       "<p>5 rows × 32 columns</p>\n",
       "</div>"
      ],
      "text/plain": [
       "         id diagnosis  radius_mean  texture_mean  perimeter_mean  area_mean  \\\n",
       "0    842302         M        17.99         10.38          122.80     1001.0   \n",
       "1    842517         M        20.57         17.77          132.90     1326.0   \n",
       "2  84300903         M        19.69         21.25          130.00     1203.0   \n",
       "3  84348301         M        11.42         20.38           77.58      386.1   \n",
       "4  84358402         M        20.29         14.34          135.10     1297.0   \n",
       "\n",
       "   smoothness_mean  compactness_mean  concavity_mean  concave points_mean  \\\n",
       "0          0.11840           0.27760          0.3001              0.14710   \n",
       "1          0.08474           0.07864          0.0869              0.07017   \n",
       "2          0.10960           0.15990          0.1974              0.12790   \n",
       "3          0.14250           0.28390          0.2414              0.10520   \n",
       "4          0.10030           0.13280          0.1980              0.10430   \n",
       "\n",
       "   ...  radius_worst  texture_worst  perimeter_worst  area_worst  \\\n",
       "0  ...         25.38          17.33           184.60      2019.0   \n",
       "1  ...         24.99          23.41           158.80      1956.0   \n",
       "2  ...         23.57          25.53           152.50      1709.0   \n",
       "3  ...         14.91          26.50            98.87       567.7   \n",
       "4  ...         22.54          16.67           152.20      1575.0   \n",
       "\n",
       "   smoothness_worst  compactness_worst  concavity_worst  concave points_worst  \\\n",
       "0            0.1622             0.6656           0.7119                0.2654   \n",
       "1            0.1238             0.1866           0.2416                0.1860   \n",
       "2            0.1444             0.4245           0.4504                0.2430   \n",
       "3            0.2098             0.8663           0.6869                0.2575   \n",
       "4            0.1374             0.2050           0.4000                0.1625   \n",
       "\n",
       "   symmetry_worst  fractal_dimension_worst  \n",
       "0          0.4601                  0.11890  \n",
       "1          0.2750                  0.08902  \n",
       "2          0.3613                  0.08758  \n",
       "3          0.6638                  0.17300  \n",
       "4          0.2364                  0.07678  \n",
       "\n",
       "[5 rows x 32 columns]"
      ]
     },
     "execution_count": 3,
     "metadata": {},
     "output_type": "execute_result"
    }
   ],
   "source": [
    "# Importing data\n",
    "data = pd.read_csv('datos.cancer.csv')\n",
    "del data['Unnamed: 32']\n",
    "data.head()"
   ]
  },
  {
   "cell_type": "markdown",
   "metadata": {},
   "source": [
    "### <span style=\"color:green\"> Procesamiento</span>"
   ]
  },
  {
   "cell_type": "code",
   "execution_count": 4,
   "metadata": {},
   "outputs": [],
   "source": [
    "x = data.iloc[:,2:].values # extrae como tensores numpy\n",
    "y = data.iloc[:,1].values"
   ]
  },
  {
   "cell_type": "markdown",
   "metadata": {},
   "source": [
    "### <span style=\"color:green\"> Recodifica la variable objetivo</span>"
   ]
  },
  {
   "cell_type": "code",
   "execution_count": 5,
   "metadata": {},
   "outputs": [],
   "source": [
    "labelencoder_y = LabelEncoder()\n",
    "y = labelencoder_y.fit_transform(y)"
   ]
  },
  {
   "cell_type": "markdown",
   "metadata": {},
   "source": [
    "\n",
    "### <span style=\"color:green\">Divide los datos. Entrenamiento y test</span>"
   ]
  },
  {
   "cell_type": "code",
   "execution_count": 6,
   "metadata": {},
   "outputs": [],
   "source": [
    "x_train, x_test, y_train, y_test = train_test_split(x, y, test_size = 0.1, random_state = 0)"
   ]
  },
  {
   "cell_type": "code",
   "execution_count": 7,
   "metadata": {},
   "outputs": [
    {
     "data": {
      "text/plain": [
       "(57, 30)"
      ]
     },
     "execution_count": 7,
     "metadata": {},
     "output_type": "execute_result"
    }
   ],
   "source": [
    "x_test.shape"
   ]
  },
  {
   "cell_type": "markdown",
   "metadata": {},
   "source": [
    " \n",
    " ### <span style=\"color:green\">Normaliza los datos</span>"
   ]
  },
  {
   "cell_type": "code",
   "execution_count": 8,
   "metadata": {},
   "outputs": [],
   "source": [
    "sc = StandardScaler()\n",
    "x_train = sc.fit_transform(x_train)\n",
    "x_test = sc.transform(x_test)"
   ]
  },
  {
   "cell_type": "markdown",
   "metadata": {},
   "source": [
    "Crea el modelo Sequential modo 2"
   ]
  },
  {
   "cell_type": "code",
   "execution_count": 9,
   "metadata": {},
   "outputs": [],
   "source": [
    "classifier = Sequential()\n",
    "## Adiciona capas una por una\n",
    "classifier.add(Dense(units=16, activation='relu', input_shape=(30,)))\n",
    "# Adding dropout to prevent overfitting (regularización)\n",
    "classifier.add(Dropout(0.1)) # 10% out in each epoc\n",
    "classifier.add(Dense(units=16, activation='relu'))\n",
    "# Adding dropout to prevent overfitting (regularización)\n",
    "classifier.add(Dropout(0.1))\n",
    "classifier.add(Dense(units=1, activation='sigmoid'))\n",
    "\n"
   ]
  },
  {
   "cell_type": "markdown",
   "metadata": {},
   "source": [
    "\n",
    "### <span style=\"color:green\">Compila</span>"
   ]
  },
  {
   "cell_type": "code",
   "execution_count": 10,
   "metadata": {},
   "outputs": [
    {
     "name": "stdout",
     "output_type": "stream",
     "text": [
      "Model: \"sequential\"\n",
      "_________________________________________________________________\n",
      "Layer (type)                 Output Shape              Param #   \n",
      "=================================================================\n",
      "dense (Dense)                (None, 16)                496       \n",
      "_________________________________________________________________\n",
      "dropout (Dropout)            (None, 16)                0         \n",
      "_________________________________________________________________\n",
      "dense_1 (Dense)              (None, 16)                272       \n",
      "_________________________________________________________________\n",
      "dropout_1 (Dropout)          (None, 16)                0         \n",
      "_________________________________________________________________\n",
      "dense_2 (Dense)              (None, 1)                 17        \n",
      "=================================================================\n",
      "Total params: 785\n",
      "Trainable params: 785\n",
      "Non-trainable params: 0\n",
      "_________________________________________________________________\n",
      "('Failed to import pydot. You must `pip install pydot` and install graphviz (https://graphviz.gitlab.io/download/), ', 'for `pydotprint` to work.')\n"
     ]
    }
   ],
   "source": [
    "classifier.compile(optimizer='adam', loss='binary_crossentropy', metrics=['accuracy'])\n",
    "classifier.summary()\n",
    "plot_model(classifier, to_file='../Imagenes/cancer_seno.png', \n",
    "           show_shapes=True)"
   ]
  },
  {
   "cell_type": "markdown",
   "metadata": {},
   "source": [
    "\n",
    "### <span style=\"color:green\">Entrenamiento</span>"
   ]
  },
  {
   "cell_type": "code",
   "execution_count": 11,
   "metadata": {},
   "outputs": [
    {
     "name": "stdout",
     "output_type": "stream",
     "text": [
      "Epoch 1/150\n",
      "13/13 [==============================] - 2s 94ms/step - loss: 0.6948 - accuracy: 0.5465 - val_loss: 0.5809 - val_accuracy: 0.6602\n",
      "Epoch 2/150\n",
      "13/13 [==============================] - 0s 6ms/step - loss: 0.5668 - accuracy: 0.7813 - val_loss: 0.4590 - val_accuracy: 0.8932\n",
      "Epoch 3/150\n",
      "13/13 [==============================] - 0s 6ms/step - loss: 0.4685 - accuracy: 0.8679 - val_loss: 0.3642 - val_accuracy: 0.9515\n",
      "Epoch 4/150\n",
      "13/13 [==============================] - 0s 6ms/step - loss: 0.4010 - accuracy: 0.8874 - val_loss: 0.2908 - val_accuracy: 0.9515\n",
      "Epoch 5/150\n",
      "13/13 [==============================] - 0s 6ms/step - loss: 0.3362 - accuracy: 0.9226 - val_loss: 0.2349 - val_accuracy: 0.9612\n",
      "Epoch 6/150\n",
      "13/13 [==============================] - 0s 6ms/step - loss: 0.2488 - accuracy: 0.9372 - val_loss: 0.1930 - val_accuracy: 0.9709\n",
      "Epoch 7/150\n",
      "13/13 [==============================] - 0s 6ms/step - loss: 0.2063 - accuracy: 0.9562 - val_loss: 0.1606 - val_accuracy: 0.9709\n",
      "Epoch 8/150\n",
      "13/13 [==============================] - 0s 6ms/step - loss: 0.1835 - accuracy: 0.9462 - val_loss: 0.1374 - val_accuracy: 0.9806\n",
      "Epoch 9/150\n",
      "13/13 [==============================] - 0s 6ms/step - loss: 0.1549 - accuracy: 0.9476 - val_loss: 0.1206 - val_accuracy: 0.9806\n",
      "Epoch 10/150\n",
      "13/13 [==============================] - 0s 6ms/step - loss: 0.1283 - accuracy: 0.9652 - val_loss: 0.1072 - val_accuracy: 0.9903\n",
      "Epoch 11/150\n",
      "13/13 [==============================] - 0s 6ms/step - loss: 0.1432 - accuracy: 0.9614 - val_loss: 0.0960 - val_accuracy: 0.9903\n",
      "Epoch 12/150\n",
      "13/13 [==============================] - 0s 6ms/step - loss: 0.1301 - accuracy: 0.9729 - val_loss: 0.0863 - val_accuracy: 0.9903\n",
      "Epoch 13/150\n",
      "13/13 [==============================] - 0s 6ms/step - loss: 0.1342 - accuracy: 0.9591 - val_loss: 0.0792 - val_accuracy: 0.9903\n",
      "Epoch 14/150\n",
      "13/13 [==============================] - 0s 6ms/step - loss: 0.1058 - accuracy: 0.9665 - val_loss: 0.0731 - val_accuracy: 0.9903\n",
      "Epoch 15/150\n",
      "13/13 [==============================] - 0s 6ms/step - loss: 0.0956 - accuracy: 0.9782 - val_loss: 0.0672 - val_accuracy: 0.9903\n",
      "Epoch 16/150\n",
      "13/13 [==============================] - 0s 6ms/step - loss: 0.0997 - accuracy: 0.9701 - val_loss: 0.0630 - val_accuracy: 0.9903\n",
      "Epoch 17/150\n",
      "13/13 [==============================] - 0s 6ms/step - loss: 0.1071 - accuracy: 0.9653 - val_loss: 0.0597 - val_accuracy: 0.9806\n",
      "Epoch 18/150\n",
      "13/13 [==============================] - 0s 6ms/step - loss: 0.0882 - accuracy: 0.9761 - val_loss: 0.0561 - val_accuracy: 0.9903\n",
      "Epoch 19/150\n",
      "13/13 [==============================] - 0s 6ms/step - loss: 0.0825 - accuracy: 0.9754 - val_loss: 0.0533 - val_accuracy: 0.9903\n",
      "Epoch 20/150\n",
      "13/13 [==============================] - 0s 6ms/step - loss: 0.0653 - accuracy: 0.9874 - val_loss: 0.0506 - val_accuracy: 0.9903\n",
      "Epoch 21/150\n",
      "13/13 [==============================] - 0s 6ms/step - loss: 0.1043 - accuracy: 0.9716 - val_loss: 0.0493 - val_accuracy: 0.9903\n",
      "Epoch 22/150\n",
      "13/13 [==============================] - 0s 6ms/step - loss: 0.0750 - accuracy: 0.9793 - val_loss: 0.0479 - val_accuracy: 0.9903\n",
      "Epoch 23/150\n",
      "13/13 [==============================] - 0s 14ms/step - loss: 0.0667 - accuracy: 0.9796 - val_loss: 0.0458 - val_accuracy: 0.9903\n",
      "Epoch 24/150\n",
      "13/13 [==============================] - 0s 6ms/step - loss: 0.0720 - accuracy: 0.9883 - val_loss: 0.0446 - val_accuracy: 0.9903\n",
      "Epoch 25/150\n",
      "13/13 [==============================] - 0s 6ms/step - loss: 0.0730 - accuracy: 0.9870 - val_loss: 0.0439 - val_accuracy: 0.9903\n",
      "Epoch 26/150\n",
      "13/13 [==============================] - 0s 6ms/step - loss: 0.0752 - accuracy: 0.9770 - val_loss: 0.0417 - val_accuracy: 0.9903\n",
      "Epoch 27/150\n",
      "13/13 [==============================] - 0s 6ms/step - loss: 0.0562 - accuracy: 0.9930 - val_loss: 0.0396 - val_accuracy: 0.9903\n",
      "Epoch 28/150\n",
      "13/13 [==============================] - 0s 6ms/step - loss: 0.0684 - accuracy: 0.9855 - val_loss: 0.0391 - val_accuracy: 0.9903\n",
      "Epoch 29/150\n",
      "13/13 [==============================] - 0s 6ms/step - loss: 0.0811 - accuracy: 0.9786 - val_loss: 0.0392 - val_accuracy: 0.9903\n",
      "Epoch 30/150\n",
      "13/13 [==============================] - 0s 6ms/step - loss: 0.0758 - accuracy: 0.9752 - val_loss: 0.0386 - val_accuracy: 0.9903\n",
      "Epoch 31/150\n",
      "13/13 [==============================] - 0s 6ms/step - loss: 0.0660 - accuracy: 0.9690 - val_loss: 0.0373 - val_accuracy: 0.9903\n",
      "Epoch 32/150\n",
      "13/13 [==============================] - 0s 6ms/step - loss: 0.0585 - accuracy: 0.9822 - val_loss: 0.0366 - val_accuracy: 0.9903\n",
      "Epoch 33/150\n",
      "13/13 [==============================] - 0s 6ms/step - loss: 0.0819 - accuracy: 0.9723 - val_loss: 0.0361 - val_accuracy: 0.9903\n",
      "Epoch 34/150\n",
      "13/13 [==============================] - 0s 6ms/step - loss: 0.0602 - accuracy: 0.9840 - val_loss: 0.0357 - val_accuracy: 0.9903\n",
      "Epoch 35/150\n",
      "13/13 [==============================] - 0s 6ms/step - loss: 0.0485 - accuracy: 0.9902 - val_loss: 0.0352 - val_accuracy: 0.9903\n",
      "Epoch 36/150\n",
      "13/13 [==============================] - 0s 6ms/step - loss: 0.0427 - accuracy: 0.9907 - val_loss: 0.0355 - val_accuracy: 0.9903\n",
      "Epoch 37/150\n",
      "13/13 [==============================] - 0s 6ms/step - loss: 0.0400 - accuracy: 0.9924 - val_loss: 0.0355 - val_accuracy: 0.9903\n",
      "Epoch 38/150\n",
      "13/13 [==============================] - 0s 6ms/step - loss: 0.0800 - accuracy: 0.9806 - val_loss: 0.0343 - val_accuracy: 0.9903\n",
      "Epoch 39/150\n",
      "13/13 [==============================] - 0s 6ms/step - loss: 0.0552 - accuracy: 0.9831 - val_loss: 0.0345 - val_accuracy: 0.9903\n",
      "Epoch 40/150\n",
      "13/13 [==============================] - 0s 6ms/step - loss: 0.0628 - accuracy: 0.9785 - val_loss: 0.0338 - val_accuracy: 0.9903\n",
      "Epoch 41/150\n",
      "13/13 [==============================] - 0s 6ms/step - loss: 0.0599 - accuracy: 0.9885 - val_loss: 0.0335 - val_accuracy: 0.9903\n",
      "Epoch 42/150\n",
      "13/13 [==============================] - 0s 7ms/step - loss: 0.0574 - accuracy: 0.9834 - val_loss: 0.0339 - val_accuracy: 0.9903\n",
      "Epoch 43/150\n",
      "13/13 [==============================] - 0s 6ms/step - loss: 0.0445 - accuracy: 0.9871 - val_loss: 0.0325 - val_accuracy: 0.9903\n",
      "Epoch 44/150\n",
      "13/13 [==============================] - 0s 6ms/step - loss: 0.0637 - accuracy: 0.9763 - val_loss: 0.0321 - val_accuracy: 0.9903\n",
      "Epoch 45/150\n",
      "13/13 [==============================] - 0s 7ms/step - loss: 0.0637 - accuracy: 0.9783 - val_loss: 0.0312 - val_accuracy: 0.9903\n",
      "Epoch 46/150\n",
      "13/13 [==============================] - 0s 6ms/step - loss: 0.0648 - accuracy: 0.9845 - val_loss: 0.0308 - val_accuracy: 0.9903\n",
      "Epoch 47/150\n",
      "13/13 [==============================] - 0s 6ms/step - loss: 0.0350 - accuracy: 0.9860 - val_loss: 0.0299 - val_accuracy: 0.9903\n",
      "Epoch 48/150\n",
      "13/13 [==============================] - 0s 6ms/step - loss: 0.0417 - accuracy: 0.9873 - val_loss: 0.0294 - val_accuracy: 0.9903\n",
      "Epoch 49/150\n",
      "13/13 [==============================] - 0s 7ms/step - loss: 0.0250 - accuracy: 0.9983 - val_loss: 0.0294 - val_accuracy: 0.9903\n",
      "Epoch 50/150\n",
      "13/13 [==============================] - 0s 6ms/step - loss: 0.0426 - accuracy: 0.9849 - val_loss: 0.0299 - val_accuracy: 0.9903\n",
      "Epoch 51/150\n",
      "13/13 [==============================] - 0s 6ms/step - loss: 0.0559 - accuracy: 0.9824 - val_loss: 0.0292 - val_accuracy: 0.9903\n",
      "Epoch 52/150\n",
      "13/13 [==============================] - 0s 6ms/step - loss: 0.0478 - accuracy: 0.9825 - val_loss: 0.0298 - val_accuracy: 0.9903\n",
      "Epoch 53/150\n",
      "13/13 [==============================] - 0s 6ms/step - loss: 0.0613 - accuracy: 0.9873 - val_loss: 0.0290 - val_accuracy: 0.9903\n",
      "Epoch 54/150\n",
      "13/13 [==============================] - 0s 6ms/step - loss: 0.0486 - accuracy: 0.9834 - val_loss: 0.0299 - val_accuracy: 0.9903\n",
      "Epoch 55/150\n",
      "13/13 [==============================] - 0s 6ms/step - loss: 0.0336 - accuracy: 0.9937 - val_loss: 0.0295 - val_accuracy: 0.9903\n",
      "Epoch 56/150\n",
      "13/13 [==============================] - 0s 6ms/step - loss: 0.0405 - accuracy: 0.9945 - val_loss: 0.0277 - val_accuracy: 0.9903\n",
      "Epoch 57/150\n",
      "13/13 [==============================] - 0s 6ms/step - loss: 0.0448 - accuracy: 0.9911 - val_loss: 0.0272 - val_accuracy: 0.9903\n",
      "Epoch 58/150\n",
      "13/13 [==============================] - 0s 6ms/step - loss: 0.0474 - accuracy: 0.9871 - val_loss: 0.0280 - val_accuracy: 0.9903\n",
      "Epoch 59/150\n",
      "13/13 [==============================] - 0s 6ms/step - loss: 0.0559 - accuracy: 0.9826 - val_loss: 0.0296 - val_accuracy: 0.9903\n",
      "Epoch 60/150\n",
      "13/13 [==============================] - 0s 6ms/step - loss: 0.0611 - accuracy: 0.9809 - val_loss: 0.0291 - val_accuracy: 0.9903\n",
      "Epoch 61/150\n",
      "13/13 [==============================] - 0s 6ms/step - loss: 0.0336 - accuracy: 0.9912 - val_loss: 0.0280 - val_accuracy: 0.9903\n",
      "Epoch 62/150\n",
      "13/13 [==============================] - 0s 6ms/step - loss: 0.0435 - accuracy: 0.9907 - val_loss: 0.0286 - val_accuracy: 0.9903\n",
      "Epoch 63/150\n",
      "13/13 [==============================] - 0s 6ms/step - loss: 0.0383 - accuracy: 0.9847 - val_loss: 0.0296 - val_accuracy: 0.9903\n",
      "Epoch 64/150\n",
      "13/13 [==============================] - 0s 6ms/step - loss: 0.0462 - accuracy: 0.9818 - val_loss: 0.0304 - val_accuracy: 0.9806\n",
      "Epoch 65/150\n",
      "13/13 [==============================] - 0s 6ms/step - loss: 0.0438 - accuracy: 0.9864 - val_loss: 0.0299 - val_accuracy: 0.9806\n",
      "Epoch 66/150\n",
      "13/13 [==============================] - 0s 6ms/step - loss: 0.0419 - accuracy: 0.9932 - val_loss: 0.0290 - val_accuracy: 0.9806\n",
      "Epoch 67/150\n",
      "13/13 [==============================] - 0s 6ms/step - loss: 0.0346 - accuracy: 0.9875 - val_loss: 0.0280 - val_accuracy: 0.9806\n",
      "Epoch 68/150\n",
      "13/13 [==============================] - 0s 6ms/step - loss: 0.0640 - accuracy: 0.9666 - val_loss: 0.0297 - val_accuracy: 0.9903\n",
      "Epoch 69/150\n",
      "13/13 [==============================] - 0s 6ms/step - loss: 0.0428 - accuracy: 0.9908 - val_loss: 0.0290 - val_accuracy: 0.9903\n",
      "Epoch 70/150\n",
      "13/13 [==============================] - 0s 7ms/step - loss: 0.0296 - accuracy: 0.9957 - val_loss: 0.0288 - val_accuracy: 0.9903\n",
      "Epoch 71/150\n",
      "13/13 [==============================] - 0s 6ms/step - loss: 0.0228 - accuracy: 0.9937 - val_loss: 0.0295 - val_accuracy: 0.9806\n",
      "Epoch 72/150\n",
      "13/13 [==============================] - 0s 6ms/step - loss: 0.0394 - accuracy: 0.9899 - val_loss: 0.0293 - val_accuracy: 0.9806\n",
      "Epoch 73/150\n",
      "13/13 [==============================] - 0s 6ms/step - loss: 0.0364 - accuracy: 0.9864 - val_loss: 0.0278 - val_accuracy: 0.9903\n",
      "Epoch 74/150\n",
      "13/13 [==============================] - 0s 6ms/step - loss: 0.0300 - accuracy: 0.9910 - val_loss: 0.0283 - val_accuracy: 0.9903\n",
      "Epoch 75/150\n",
      "13/13 [==============================] - 0s 6ms/step - loss: 0.0240 - accuracy: 0.9949 - val_loss: 0.0273 - val_accuracy: 0.9903\n",
      "Epoch 76/150\n",
      "13/13 [==============================] - 0s 8ms/step - loss: 0.0452 - accuracy: 0.9878 - val_loss: 0.0278 - val_accuracy: 0.9903\n",
      "Epoch 77/150\n",
      "13/13 [==============================] - 0s 6ms/step - loss: 0.0403 - accuracy: 0.9894 - val_loss: 0.0264 - val_accuracy: 0.9903\n",
      "Epoch 78/150\n",
      "13/13 [==============================] - 0s 6ms/step - loss: 0.0351 - accuracy: 0.9881 - val_loss: 0.0271 - val_accuracy: 0.9903\n",
      "Epoch 79/150\n",
      "13/13 [==============================] - 0s 6ms/step - loss: 0.0334 - accuracy: 0.9865 - val_loss: 0.0274 - val_accuracy: 0.9903\n",
      "Epoch 80/150\n",
      "13/13 [==============================] - 0s 6ms/step - loss: 0.0316 - accuracy: 0.9895 - val_loss: 0.0276 - val_accuracy: 0.9903\n",
      "Epoch 81/150\n",
      "13/13 [==============================] - 0s 6ms/step - loss: 0.0272 - accuracy: 0.9905 - val_loss: 0.0280 - val_accuracy: 0.9903\n",
      "Epoch 82/150\n",
      "13/13 [==============================] - 0s 8ms/step - loss: 0.0416 - accuracy: 0.9776 - val_loss: 0.0261 - val_accuracy: 0.9903\n",
      "Epoch 83/150\n",
      "13/13 [==============================] - 0s 6ms/step - loss: 0.0424 - accuracy: 0.9872 - val_loss: 0.0254 - val_accuracy: 0.9903\n",
      "Epoch 84/150\n",
      "13/13 [==============================] - 0s 6ms/step - loss: 0.0436 - accuracy: 0.9819 - val_loss: 0.0250 - val_accuracy: 0.9903\n",
      "Epoch 85/150\n",
      "13/13 [==============================] - 0s 10ms/step - loss: 0.0321 - accuracy: 0.9869 - val_loss: 0.0249 - val_accuracy: 0.9903\n",
      "Epoch 86/150\n",
      "13/13 [==============================] - 0s 6ms/step - loss: 0.0325 - accuracy: 0.9963 - val_loss: 0.0244 - val_accuracy: 0.9903\n",
      "Epoch 87/150\n",
      "13/13 [==============================] - 0s 6ms/step - loss: 0.0204 - accuracy: 0.9981 - val_loss: 0.0244 - val_accuracy: 0.9903\n",
      "Epoch 88/150\n",
      "13/13 [==============================] - 0s 6ms/step - loss: 0.0221 - accuracy: 0.9970 - val_loss: 0.0247 - val_accuracy: 0.9903\n",
      "Epoch 89/150\n",
      "13/13 [==============================] - 0s 6ms/step - loss: 0.0243 - accuracy: 0.9882 - val_loss: 0.0242 - val_accuracy: 0.9903\n",
      "Epoch 90/150\n",
      "13/13 [==============================] - 0s 6ms/step - loss: 0.0303 - accuracy: 0.9905 - val_loss: 0.0255 - val_accuracy: 0.9903\n",
      "Epoch 91/150\n",
      "13/13 [==============================] - 0s 6ms/step - loss: 0.0225 - accuracy: 0.9953 - val_loss: 0.0258 - val_accuracy: 0.9903\n",
      "Epoch 92/150\n",
      "13/13 [==============================] - 0s 6ms/step - loss: 0.0159 - accuracy: 0.9971 - val_loss: 0.0263 - val_accuracy: 0.9903\n",
      "Epoch 93/150\n",
      "13/13 [==============================] - 0s 7ms/step - loss: 0.0100 - accuracy: 0.9983 - val_loss: 0.0264 - val_accuracy: 0.9903\n",
      "Epoch 94/150\n",
      "13/13 [==============================] - 0s 7ms/step - loss: 0.0200 - accuracy: 0.9920 - val_loss: 0.0269 - val_accuracy: 0.9903\n",
      "Epoch 95/150\n",
      "13/13 [==============================] - 0s 8ms/step - loss: 0.0501 - accuracy: 0.9834 - val_loss: 0.0272 - val_accuracy: 0.9903\n",
      "Epoch 96/150\n",
      "13/13 [==============================] - 0s 7ms/step - loss: 0.0210 - accuracy: 0.9944 - val_loss: 0.0275 - val_accuracy: 0.9806\n",
      "Epoch 97/150\n",
      "13/13 [==============================] - 0s 6ms/step - loss: 0.0174 - accuracy: 0.9935 - val_loss: 0.0261 - val_accuracy: 0.9903\n",
      "Epoch 98/150\n",
      "13/13 [==============================] - 0s 6ms/step - loss: 0.0377 - accuracy: 0.9890 - val_loss: 0.0260 - val_accuracy: 0.9903\n",
      "Epoch 99/150\n",
      "13/13 [==============================] - 0s 7ms/step - loss: 0.0139 - accuracy: 0.9993 - val_loss: 0.0255 - val_accuracy: 0.9903\n",
      "Epoch 100/150\n",
      "13/13 [==============================] - 0s 9ms/step - loss: 0.0254 - accuracy: 0.9900 - val_loss: 0.0264 - val_accuracy: 0.9903\n",
      "Epoch 101/150\n",
      "13/13 [==============================] - 0s 7ms/step - loss: 0.0272 - accuracy: 0.9881 - val_loss: 0.0252 - val_accuracy: 0.9903\n",
      "Epoch 102/150\n",
      "13/13 [==============================] - 0s 8ms/step - loss: 0.0252 - accuracy: 0.9927 - val_loss: 0.0237 - val_accuracy: 0.9903\n",
      "Epoch 103/150\n",
      "13/13 [==============================] - 0s 6ms/step - loss: 0.0198 - accuracy: 0.9971 - val_loss: 0.0221 - val_accuracy: 0.9903\n",
      "Epoch 104/150\n",
      "13/13 [==============================] - 0s 9ms/step - loss: 0.0369 - accuracy: 0.9797 - val_loss: 0.0224 - val_accuracy: 0.9903\n",
      "Epoch 105/150\n",
      "13/13 [==============================] - 0s 8ms/step - loss: 0.0339 - accuracy: 0.9826 - val_loss: 0.0229 - val_accuracy: 0.9903\n",
      "Epoch 106/150\n",
      "13/13 [==============================] - 0s 8ms/step - loss: 0.0275 - accuracy: 0.9924 - val_loss: 0.0228 - val_accuracy: 0.9903\n",
      "Epoch 107/150\n",
      "13/13 [==============================] - 0s 8ms/step - loss: 0.0197 - accuracy: 0.9944 - val_loss: 0.0220 - val_accuracy: 0.9903\n",
      "Epoch 108/150\n",
      "13/13 [==============================] - 0s 9ms/step - loss: 0.0183 - accuracy: 0.9932 - val_loss: 0.0223 - val_accuracy: 0.9903\n",
      "Epoch 109/150\n",
      "13/13 [==============================] - 0s 7ms/step - loss: 0.0248 - accuracy: 0.9873 - val_loss: 0.0219 - val_accuracy: 0.9903\n",
      "Epoch 110/150\n",
      "13/13 [==============================] - 0s 7ms/step - loss: 0.0136 - accuracy: 0.9956 - val_loss: 0.0207 - val_accuracy: 0.9903\n",
      "Epoch 111/150\n",
      "13/13 [==============================] - 0s 8ms/step - loss: 0.0163 - accuracy: 0.9964 - val_loss: 0.0201 - val_accuracy: 0.9903\n",
      "Epoch 112/150\n",
      "13/13 [==============================] - 0s 9ms/step - loss: 0.0274 - accuracy: 0.9891 - val_loss: 0.0211 - val_accuracy: 0.9903\n",
      "Epoch 113/150\n",
      "13/13 [==============================] - 0s 7ms/step - loss: 0.0151 - accuracy: 0.9953 - val_loss: 0.0210 - val_accuracy: 0.9903\n",
      "Epoch 114/150\n",
      "13/13 [==============================] - 0s 8ms/step - loss: 0.0210 - accuracy: 0.9931 - val_loss: 0.0205 - val_accuracy: 0.9903\n",
      "Epoch 115/150\n",
      "13/13 [==============================] - 0s 7ms/step - loss: 0.0382 - accuracy: 0.9845 - val_loss: 0.0208 - val_accuracy: 0.9903\n",
      "Epoch 116/150\n",
      "13/13 [==============================] - 0s 8ms/step - loss: 0.0173 - accuracy: 0.9954 - val_loss: 0.0210 - val_accuracy: 0.9903\n",
      "Epoch 117/150\n",
      "13/13 [==============================] - 0s 6ms/step - loss: 0.0200 - accuracy: 0.9952 - val_loss: 0.0212 - val_accuracy: 0.9903\n",
      "Epoch 118/150\n",
      "13/13 [==============================] - 0s 6ms/step - loss: 0.0184 - accuracy: 0.9961 - val_loss: 0.0198 - val_accuracy: 0.9903\n",
      "Epoch 119/150\n",
      "13/13 [==============================] - 0s 6ms/step - loss: 0.0187 - accuracy: 0.9925 - val_loss: 0.0185 - val_accuracy: 0.9903\n",
      "Epoch 120/150\n",
      "13/13 [==============================] - 0s 6ms/step - loss: 0.0201 - accuracy: 0.9941 - val_loss: 0.0181 - val_accuracy: 0.9903\n",
      "Epoch 121/150\n",
      "13/13 [==============================] - 0s 6ms/step - loss: 0.0240 - accuracy: 0.9883 - val_loss: 0.0186 - val_accuracy: 0.9903\n",
      "Epoch 122/150\n",
      "13/13 [==============================] - 0s 6ms/step - loss: 0.0266 - accuracy: 0.9886 - val_loss: 0.0181 - val_accuracy: 0.9903\n",
      "Epoch 123/150\n",
      "13/13 [==============================] - 0s 6ms/step - loss: 0.0186 - accuracy: 0.9953 - val_loss: 0.0182 - val_accuracy: 0.9903\n",
      "Epoch 124/150\n",
      "13/13 [==============================] - 0s 6ms/step - loss: 0.0181 - accuracy: 0.9949 - val_loss: 0.0188 - val_accuracy: 0.9903\n",
      "Epoch 125/150\n",
      "13/13 [==============================] - 0s 6ms/step - loss: 0.0191 - accuracy: 0.9953 - val_loss: 0.0193 - val_accuracy: 0.9903\n",
      "Epoch 126/150\n",
      "13/13 [==============================] - 0s 6ms/step - loss: 0.0188 - accuracy: 0.9936 - val_loss: 0.0202 - val_accuracy: 0.9903\n",
      "Epoch 127/150\n",
      "13/13 [==============================] - 0s 6ms/step - loss: 0.0218 - accuracy: 0.9844 - val_loss: 0.0194 - val_accuracy: 0.9903\n",
      "Epoch 128/150\n",
      "13/13 [==============================] - 0s 6ms/step - loss: 0.0449 - accuracy: 0.9819 - val_loss: 0.0152 - val_accuracy: 0.9903\n",
      "Epoch 129/150\n",
      "13/13 [==============================] - 0s 6ms/step - loss: 0.0270 - accuracy: 0.9889 - val_loss: 0.0157 - val_accuracy: 0.9903\n",
      "Epoch 130/150\n",
      "13/13 [==============================] - 0s 6ms/step - loss: 0.0085 - accuracy: 0.9985 - val_loss: 0.0162 - val_accuracy: 0.9903\n",
      "Epoch 131/150\n",
      "13/13 [==============================] - 0s 6ms/step - loss: 0.0184 - accuracy: 0.9927 - val_loss: 0.0157 - val_accuracy: 0.9903\n",
      "Epoch 132/150\n",
      "13/13 [==============================] - 0s 6ms/step - loss: 0.0144 - accuracy: 0.9942 - val_loss: 0.0160 - val_accuracy: 0.9903\n",
      "Epoch 133/150\n",
      "13/13 [==============================] - 0s 7ms/step - loss: 0.0149 - accuracy: 0.9929 - val_loss: 0.0165 - val_accuracy: 0.9903\n",
      "Epoch 134/150\n",
      "13/13 [==============================] - 0s 6ms/step - loss: 0.0147 - accuracy: 0.9965 - val_loss: 0.0174 - val_accuracy: 0.9903\n",
      "Epoch 135/150\n",
      "13/13 [==============================] - 0s 6ms/step - loss: 0.0115 - accuracy: 0.9995 - val_loss: 0.0183 - val_accuracy: 0.9903\n",
      "Epoch 136/150\n",
      "13/13 [==============================] - 0s 6ms/step - loss: 0.0113 - accuracy: 0.9960 - val_loss: 0.0175 - val_accuracy: 0.9903\n",
      "Epoch 137/150\n",
      "13/13 [==============================] - 0s 6ms/step - loss: 0.0095 - accuracy: 0.9959 - val_loss: 0.0166 - val_accuracy: 0.9903\n",
      "Epoch 138/150\n",
      "13/13 [==============================] - 0s 6ms/step - loss: 0.0339 - accuracy: 0.9912 - val_loss: 0.0168 - val_accuracy: 0.9903\n",
      "Epoch 139/150\n",
      "13/13 [==============================] - 0s 6ms/step - loss: 0.0211 - accuracy: 0.9855 - val_loss: 0.0171 - val_accuracy: 0.9903\n",
      "Epoch 140/150\n",
      "13/13 [==============================] - 0s 6ms/step - loss: 0.0123 - accuracy: 0.9989 - val_loss: 0.0163 - val_accuracy: 0.9903\n",
      "Epoch 141/150\n",
      "13/13 [==============================] - 0s 6ms/step - loss: 0.0226 - accuracy: 0.9933 - val_loss: 0.0175 - val_accuracy: 0.9903\n",
      "Epoch 142/150\n",
      "13/13 [==============================] - 0s 6ms/step - loss: 0.0267 - accuracy: 0.9853 - val_loss: 0.0173 - val_accuracy: 0.9903\n",
      "Epoch 143/150\n",
      "13/13 [==============================] - 0s 6ms/step - loss: 0.0203 - accuracy: 0.9877 - val_loss: 0.0171 - val_accuracy: 0.9903\n",
      "Epoch 144/150\n",
      "13/13 [==============================] - 0s 6ms/step - loss: 0.0177 - accuracy: 0.9971 - val_loss: 0.0161 - val_accuracy: 0.9903\n",
      "Epoch 145/150\n",
      "13/13 [==============================] - 0s 6ms/step - loss: 0.0140 - accuracy: 0.9940 - val_loss: 0.0155 - val_accuracy: 0.9903\n",
      "Epoch 146/150\n",
      "13/13 [==============================] - 0s 6ms/step - loss: 0.0184 - accuracy: 0.9956 - val_loss: 0.0149 - val_accuracy: 0.9903\n",
      "Epoch 147/150\n",
      "13/13 [==============================] - 0s 6ms/step - loss: 0.0107 - accuracy: 0.9969 - val_loss: 0.0158 - val_accuracy: 0.9903\n",
      "Epoch 148/150\n",
      "13/13 [==============================] - 0s 6ms/step - loss: 0.0230 - accuracy: 0.9938 - val_loss: 0.0155 - val_accuracy: 0.9903\n",
      "Epoch 149/150\n",
      "13/13 [==============================] - 0s 6ms/step - loss: 0.0089 - accuracy: 0.9966 - val_loss: 0.0156 - val_accuracy: 0.9903\n",
      "Epoch 150/150\n",
      "13/13 [==============================] - 0s 6ms/step - loss: 0.0070 - accuracy: 0.9982 - val_loss: 0.0162 - val_accuracy: 0.9903\n"
     ]
    }
   ],
   "source": [
    "history = classifier.fit(x_train, y_train, batch_size=32, epochs=150,validation_split = 0.2)"
   ]
  },
  {
   "cell_type": "markdown",
   "metadata": {},
   "source": [
    "\n",
    "### <span style=\"color:green\">Predicciones</span>"
   ]
  },
  {
   "cell_type": "code",
   "execution_count": 12,
   "metadata": {},
   "outputs": [],
   "source": [
    "# Predicting the Test set results\n",
    "y_pred = classifier.predict(x_test)\n",
    "#y_pred = (y_pred > 0.5)\n",
    "y_pred[y_pred > 0.5] = 1\n",
    "y_pred[y_pred <=0.5] = 0"
   ]
  },
  {
   "cell_type": "markdown",
   "metadata": {},
   "source": [
    "\n",
    "### <span style=\"color:green\">Matriz de confusión</span>"
   ]
  },
  {
   "cell_type": "code",
   "execution_count": 13,
   "metadata": {},
   "outputs": [],
   "source": [
    "cm = confusion_matrix(y_test, y_pred)"
   ]
  },
  {
   "cell_type": "code",
   "execution_count": 14,
   "metadata": {},
   "outputs": [
    {
     "name": "stdout",
     "output_type": "stream",
     "text": [
      "Our accuracy is 98.24561403508771%\n"
     ]
    }
   ],
   "source": [
    "print(\"Our accuracy is {}%\".format(((cm[0][0] + cm[1][1])/y_test.shape[0])*100))"
   ]
  },
  {
   "cell_type": "code",
   "execution_count": 15,
   "metadata": {},
   "outputs": [
    {
     "data": {
      "image/png": "[encoded data removed]",
      "text/plain": [
       "<Figure size 432x288 with 2 Axes>"
      ]
     },
     "metadata": {
      "needs_background": "light"
     },
     "output_type": "display_data"
    }
   ],
   "source": [
    "sns.heatmap(cm,annot=True)\n",
    "plt.savefig('h.png')"
   ]
  },
  {
   "cell_type": "markdown",
   "metadata": {},
   "source": [
    "\n",
    "### <span style=\"color:green\">Evaluación del modelo</span>"
   ]
  },
  {
   "cell_type": "code",
   "execution_count": 16,
   "metadata": {},
   "outputs": [],
   "source": [
    "def plot_metric(history, metric):\n",
    "    train_metrics = history.history[metric]\n",
    "    val_metrics = history.history['val_'+metric]\n",
    "    epochs = range(1, len(train_metrics) + 1)\n",
    "    plt.plot(epochs, train_metrics, 'bo--')\n",
    "    plt.plot(epochs, val_metrics, 'ro-')\n",
    "    plt.title('Entrenamiento y validación '+ metric)\n",
    "    plt.xlabel(\"Epochs\")\n",
    "    plt.ylabel(metric)\n",
    "    plt.legend([\"train_\"+metric, 'val_'+metric])\n",
    "    plt.show()"
   ]
  },
  {
   "cell_type": "code",
   "execution_count": 17,
   "metadata": {},
   "outputs": [
    {
     "data": {
      "image/png": "[encoded data removed]",
      "text/plain": [
       "<Figure size 432x288 with 1 Axes>"
      ]
     },
     "metadata": {
      "needs_background": "light"
     },
     "output_type": "display_data"
    }
   ],
   "source": [
    "plot_metric(history, 'loss')\n"
   ]
  },
  {
   "cell_type": "code",
   "execution_count": 18,
   "metadata": {},
   "outputs": [
    {
     "data": {
      "image/png": "[encoded data removed]",
      "text/plain": [
       "<Figure size 432x288 with 1 Axes>"
      ]
     },
     "metadata": {
      "needs_background": "light"
     },
     "output_type": "display_data"
    }
   ],
   "source": [
    "plot_metric(history, 'accuracy')"
   ]
  },
  {
   "cell_type": "markdown",
   "metadata": {},
   "source": [
    "# <span style=\"color:maroon\">Ejercicio 2</span>\n",
    "## <span style=\"color:maroon\">Red neuronal de regresión para predecir el precio de las viviendas</span>"
   ]
  },
  {
   "cell_type": "markdown",
   "metadata": {},
   "source": [
    "### <span style=\"color:green\">Importar librerías requeridas</span>"
   ]
  },
  {
   "cell_type": "markdown",
   "metadata": {},
   "source": [
    "Se inicia TensorFlow (tf) y se cargan otras bibliotecas que necesitaremos más adelante"
   ]
  },
  {
   "cell_type": "code",
   "execution_count": 19,
   "metadata": {},
   "outputs": [
    {
     "name": "stdout",
     "output_type": "stream",
     "text": [
      "2.4.1\n"
     ]
    }
   ],
   "source": [
    "from __future__ import absolute_import, division, print_function, unicode_literals\n",
    "\n",
    "import pathlib\n",
    "\n",
    "import matplotlib.pyplot as plt\n",
    "import pandas as pd\n",
    "import seaborn as sns\n",
    "\n",
    "try:\n",
    "  # %tensorflow_version only exists in Colab.\n",
    "  %tensorflow_version 2.x\n",
    "except Exception:\n",
    "  pass\n",
    "import tensorflow as tf\n",
    "\n",
    "from tensorflow import keras\n",
    "from tensorflow.keras import layers\n",
    "\n",
    "print(tf.__version__)\n"
   ]
  },
  {
   "cell_type": "markdown",
   "metadata": {},
   "source": [
    "### <span style=\"color:green\">Exploración de datos</span>"
   ]
  },
  {
   "cell_type": "markdown",
   "metadata": {},
   "source": [
    "Primero, importamos un conjunto de datos de precios de la vivienda en Boston e imprimimos una descripción para poder examinar lo que hay en los datos."
   ]
  },
  {
   "cell_type": "code",
   "execution_count": 20,
   "metadata": {},
   "outputs": [
    {
     "data": {
      "text/html": [
       "<div>\n",
       "<style scoped>\n",
       "    .dataframe tbody tr th:only-of-type {\n",
       "        vertical-align: middle;\n",
       "    }\n",
       "\n",
       "    .dataframe tbody tr th {\n",
       "        vertical-align: top;\n",
       "    }\n",
       "\n",
       "    .dataframe thead th {\n",
       "        text-align: right;\n",
       "    }\n",
       "</style>\n",
       "<table border=\"1\" class=\"dataframe\">\n",
       "  <thead>\n",
       "    <tr style=\"text-align: right;\">\n",
       "      <th></th>\n",
       "      <th>CRIM</th>\n",
       "      <th>ZN</th>\n",
       "      <th>INDUS</th>\n",
       "      <th>CHAS</th>\n",
       "      <th>NOX</th>\n",
       "      <th>RM</th>\n",
       "      <th>AGE</th>\n",
       "      <th>DIS</th>\n",
       "      <th>RAD</th>\n",
       "      <th>TAX</th>\n",
       "      <th>PTRATIO</th>\n",
       "      <th>B</th>\n",
       "      <th>LSTAT</th>\n",
       "      <th>MEDV</th>\n",
       "    </tr>\n",
       "  </thead>\n",
       "  <tbody>\n",
       "    <tr>\n",
       "      <th>count</th>\n",
       "      <td>506.000000</td>\n",
       "      <td>506.000000</td>\n",
       "      <td>506.000000</td>\n",
       "      <td>506.000000</td>\n",
       "      <td>506.000000</td>\n",
       "      <td>506.000000</td>\n",
       "      <td>506.000000</td>\n",
       "      <td>506.000000</td>\n",
       "      <td>506.000000</td>\n",
       "      <td>506.000000</td>\n",
       "      <td>506.000000</td>\n",
       "      <td>506.000000</td>\n",
       "      <td>506.000000</td>\n",
       "      <td>506.000000</td>\n",
       "    </tr>\n",
       "    <tr>\n",
       "      <th>mean</th>\n",
       "      <td>3.613524</td>\n",
       "      <td>11.363636</td>\n",
       "      <td>11.136779</td>\n",
       "      <td>0.069170</td>\n",
       "      <td>0.554695</td>\n",
       "      <td>6.284634</td>\n",
       "      <td>68.574901</td>\n",
       "      <td>3.795043</td>\n",
       "      <td>9.549407</td>\n",
       "      <td>408.237154</td>\n",
       "      <td>18.455534</td>\n",
       "      <td>356.674032</td>\n",
       "      <td>12.653063</td>\n",
       "      <td>22.532806</td>\n",
       "    </tr>\n",
       "    <tr>\n",
       "      <th>std</th>\n",
       "      <td>8.601545</td>\n",
       "      <td>23.322453</td>\n",
       "      <td>6.860353</td>\n",
       "      <td>0.253994</td>\n",
       "      <td>0.115878</td>\n",
       "      <td>0.702617</td>\n",
       "      <td>28.148861</td>\n",
       "      <td>2.105710</td>\n",
       "      <td>8.707259</td>\n",
       "      <td>168.537116</td>\n",
       "      <td>2.164946</td>\n",
       "      <td>91.294864</td>\n",
       "      <td>7.141062</td>\n",
       "      <td>9.197104</td>\n",
       "    </tr>\n",
       "    <tr>\n",
       "      <th>min</th>\n",
       "      <td>0.006320</td>\n",
       "      <td>0.000000</td>\n",
       "      <td>0.460000</td>\n",
       "      <td>0.000000</td>\n",
       "      <td>0.385000</td>\n",
       "      <td>3.561000</td>\n",
       "      <td>2.900000</td>\n",
       "      <td>1.129600</td>\n",
       "      <td>1.000000</td>\n",
       "      <td>187.000000</td>\n",
       "      <td>12.600000</td>\n",
       "      <td>0.320000</td>\n",
       "      <td>1.730000</td>\n",
       "      <td>5.000000</td>\n",
       "    </tr>\n",
       "    <tr>\n",
       "      <th>25%</th>\n",
       "      <td>0.082045</td>\n",
       "      <td>0.000000</td>\n",
       "      <td>5.190000</td>\n",
       "      <td>0.000000</td>\n",
       "      <td>0.449000</td>\n",
       "      <td>5.885500</td>\n",
       "      <td>45.025000</td>\n",
       "      <td>2.100175</td>\n",
       "      <td>4.000000</td>\n",
       "      <td>279.000000</td>\n",
       "      <td>17.400000</td>\n",
       "      <td>375.377500</td>\n",
       "      <td>6.950000</td>\n",
       "      <td>17.025000</td>\n",
       "    </tr>\n",
       "    <tr>\n",
       "      <th>50%</th>\n",
       "      <td>0.256510</td>\n",
       "      <td>0.000000</td>\n",
       "      <td>9.690000</td>\n",
       "      <td>0.000000</td>\n",
       "      <td>0.538000</td>\n",
       "      <td>6.208500</td>\n",
       "      <td>77.500000</td>\n",
       "      <td>3.207450</td>\n",
       "      <td>5.000000</td>\n",
       "      <td>330.000000</td>\n",
       "      <td>19.050000</td>\n",
       "      <td>391.440000</td>\n",
       "      <td>11.360000</td>\n",
       "      <td>21.200000</td>\n",
       "    </tr>\n",
       "    <tr>\n",
       "      <th>75%</th>\n",
       "      <td>3.677083</td>\n",
       "      <td>12.500000</td>\n",
       "      <td>18.100000</td>\n",
       "      <td>0.000000</td>\n",
       "      <td>0.624000</td>\n",
       "      <td>6.623500</td>\n",
       "      <td>94.075000</td>\n",
       "      <td>5.188425</td>\n",
       "      <td>24.000000</td>\n",
       "      <td>666.000000</td>\n",
       "      <td>20.200000</td>\n",
       "      <td>396.225000</td>\n",
       "      <td>16.955000</td>\n",
       "      <td>25.000000</td>\n",
       "    </tr>\n",
       "    <tr>\n",
       "      <th>max</th>\n",
       "      <td>88.976200</td>\n",
       "      <td>100.000000</td>\n",
       "      <td>27.740000</td>\n",
       "      <td>1.000000</td>\n",
       "      <td>0.871000</td>\n",
       "      <td>8.780000</td>\n",
       "      <td>100.000000</td>\n",
       "      <td>12.126500</td>\n",
       "      <td>24.000000</td>\n",
       "      <td>711.000000</td>\n",
       "      <td>22.000000</td>\n",
       "      <td>396.900000</td>\n",
       "      <td>37.970000</td>\n",
       "      <td>50.000000</td>\n",
       "    </tr>\n",
       "  </tbody>\n",
       "</table>\n",
       "</div>"
      ],
      "text/plain": [
       "             CRIM          ZN       INDUS        CHAS         NOX          RM  \\\n",
       "count  506.000000  506.000000  506.000000  506.000000  506.000000  506.000000   \n",
       "mean     3.613524   11.363636   11.136779    0.069170    0.554695    6.284634   \n",
       "std      8.601545   23.322453    6.860353    0.253994    0.115878    0.702617   \n",
       "min      0.006320    0.000000    0.460000    0.000000    0.385000    3.561000   \n",
       "25%      0.082045    0.000000    5.190000    0.000000    0.449000    5.885500   \n",
       "50%      0.256510    0.000000    9.690000    0.000000    0.538000    6.208500   \n",
       "75%      3.677083   12.500000   18.100000    0.000000    0.624000    6.623500   \n",
       "max     88.976200  100.000000   27.740000    1.000000    0.871000    8.780000   \n",
       "\n",
       "              AGE         DIS         RAD         TAX     PTRATIO           B  \\\n",
       "count  506.000000  506.000000  506.000000  506.000000  506.000000  506.000000   \n",
       "mean    68.574901    3.795043    9.549407  408.237154   18.455534  356.674032   \n",
       "std     28.148861    2.105710    8.707259  168.537116    2.164946   91.294864   \n",
       "min      2.900000    1.129600    1.000000  187.000000   12.600000    0.320000   \n",
       "25%     45.025000    2.100175    4.000000  279.000000   17.400000  375.377500   \n",
       "50%     77.500000    3.207450    5.000000  330.000000   19.050000  391.440000   \n",
       "75%     94.075000    5.188425   24.000000  666.000000   20.200000  396.225000   \n",
       "max    100.000000   12.126500   24.000000  711.000000   22.000000  396.900000   \n",
       "\n",
       "            LSTAT        MEDV  \n",
       "count  506.000000  506.000000  \n",
       "mean    12.653063   22.532806  \n",
       "std      7.141062    9.197104  \n",
       "min      1.730000    5.000000  \n",
       "25%      6.950000   17.025000  \n",
       "50%     11.360000   21.200000  \n",
       "75%     16.955000   25.000000  \n",
       "max     37.970000   50.000000  "
      ]
     },
     "execution_count": 20,
     "metadata": {},
     "output_type": "execute_result"
    }
   ],
   "source": [
    "import pandas as pd\n",
    "from sklearn.datasets import load_boston\n",
    "boston = load_boston()\n",
    "data = pd.DataFrame(boston.data, columns=boston.feature_names)\n",
    "data['MEDV'] = pd.Series(data=boston.target, index=data.index) \n",
    "data.describe() "
   ]
  },
  {
   "cell_type": "code",
   "execution_count": 21,
   "metadata": {},
   "outputs": [
    {
     "data": {
      "text/html": [
       "<div>\n",
       "<style scoped>\n",
       "    .dataframe tbody tr th:only-of-type {\n",
       "        vertical-align: middle;\n",
       "    }\n",
       "\n",
       "    .dataframe tbody tr th {\n",
       "        vertical-align: top;\n",
       "    }\n",
       "\n",
       "    .dataframe thead th {\n",
       "        text-align: right;\n",
       "    }\n",
       "</style>\n",
       "<table border=\"1\" class=\"dataframe\">\n",
       "  <thead>\n",
       "    <tr style=\"text-align: right;\">\n",
       "      <th></th>\n",
       "      <th>CRIM</th>\n",
       "      <th>ZN</th>\n",
       "      <th>INDUS</th>\n",
       "      <th>CHAS</th>\n",
       "      <th>NOX</th>\n",
       "      <th>RM</th>\n",
       "      <th>AGE</th>\n",
       "      <th>DIS</th>\n",
       "      <th>RAD</th>\n",
       "      <th>TAX</th>\n",
       "      <th>PTRATIO</th>\n",
       "      <th>B</th>\n",
       "      <th>LSTAT</th>\n",
       "      <th>MEDV</th>\n",
       "    </tr>\n",
       "  </thead>\n",
       "  <tbody>\n",
       "    <tr>\n",
       "      <th>501</th>\n",
       "      <td>0.06263</td>\n",
       "      <td>0.0</td>\n",
       "      <td>11.93</td>\n",
       "      <td>0.0</td>\n",
       "      <td>0.573</td>\n",
       "      <td>6.593</td>\n",
       "      <td>69.1</td>\n",
       "      <td>2.4786</td>\n",
       "      <td>1.0</td>\n",
       "      <td>273.0</td>\n",
       "      <td>21.0</td>\n",
       "      <td>391.99</td>\n",
       "      <td>9.67</td>\n",
       "      <td>22.4</td>\n",
       "    </tr>\n",
       "    <tr>\n",
       "      <th>502</th>\n",
       "      <td>0.04527</td>\n",
       "      <td>0.0</td>\n",
       "      <td>11.93</td>\n",
       "      <td>0.0</td>\n",
       "      <td>0.573</td>\n",
       "      <td>6.120</td>\n",
       "      <td>76.7</td>\n",
       "      <td>2.2875</td>\n",
       "      <td>1.0</td>\n",
       "      <td>273.0</td>\n",
       "      <td>21.0</td>\n",
       "      <td>396.90</td>\n",
       "      <td>9.08</td>\n",
       "      <td>20.6</td>\n",
       "    </tr>\n",
       "    <tr>\n",
       "      <th>503</th>\n",
       "      <td>0.06076</td>\n",
       "      <td>0.0</td>\n",
       "      <td>11.93</td>\n",
       "      <td>0.0</td>\n",
       "      <td>0.573</td>\n",
       "      <td>6.976</td>\n",
       "      <td>91.0</td>\n",
       "      <td>2.1675</td>\n",
       "      <td>1.0</td>\n",
       "      <td>273.0</td>\n",
       "      <td>21.0</td>\n",
       "      <td>396.90</td>\n",
       "      <td>5.64</td>\n",
       "      <td>23.9</td>\n",
       "    </tr>\n",
       "    <tr>\n",
       "      <th>504</th>\n",
       "      <td>0.10959</td>\n",
       "      <td>0.0</td>\n",
       "      <td>11.93</td>\n",
       "      <td>0.0</td>\n",
       "      <td>0.573</td>\n",
       "      <td>6.794</td>\n",
       "      <td>89.3</td>\n",
       "      <td>2.3889</td>\n",
       "      <td>1.0</td>\n",
       "      <td>273.0</td>\n",
       "      <td>21.0</td>\n",
       "      <td>393.45</td>\n",
       "      <td>6.48</td>\n",
       "      <td>22.0</td>\n",
       "    </tr>\n",
       "    <tr>\n",
       "      <th>505</th>\n",
       "      <td>0.04741</td>\n",
       "      <td>0.0</td>\n",
       "      <td>11.93</td>\n",
       "      <td>0.0</td>\n",
       "      <td>0.573</td>\n",
       "      <td>6.030</td>\n",
       "      <td>80.8</td>\n",
       "      <td>2.5050</td>\n",
       "      <td>1.0</td>\n",
       "      <td>273.0</td>\n",
       "      <td>21.0</td>\n",
       "      <td>396.90</td>\n",
       "      <td>7.88</td>\n",
       "      <td>11.9</td>\n",
       "    </tr>\n",
       "  </tbody>\n",
       "</table>\n",
       "</div>"
      ],
      "text/plain": [
       "        CRIM   ZN  INDUS  CHAS    NOX     RM   AGE     DIS  RAD    TAX  \\\n",
       "501  0.06263  0.0  11.93   0.0  0.573  6.593  69.1  2.4786  1.0  273.0   \n",
       "502  0.04527  0.0  11.93   0.0  0.573  6.120  76.7  2.2875  1.0  273.0   \n",
       "503  0.06076  0.0  11.93   0.0  0.573  6.976  91.0  2.1675  1.0  273.0   \n",
       "504  0.10959  0.0  11.93   0.0  0.573  6.794  89.3  2.3889  1.0  273.0   \n",
       "505  0.04741  0.0  11.93   0.0  0.573  6.030  80.8  2.5050  1.0  273.0   \n",
       "\n",
       "     PTRATIO       B  LSTAT  MEDV  \n",
       "501     21.0  391.99   9.67  22.4  \n",
       "502     21.0  396.90   9.08  20.6  \n",
       "503     21.0  396.90   5.64  23.9  \n",
       "504     21.0  393.45   6.48  22.0  \n",
       "505     21.0  396.90   7.88  11.9  "
      ]
     },
     "execution_count": 21,
     "metadata": {},
     "output_type": "execute_result"
    }
   ],
   "source": [
    "data.tail()"
   ]
  },
  {
   "cell_type": "markdown",
   "metadata": {},
   "source": [
    "Veamos si faltan datos:"
   ]
  },
  {
   "cell_type": "code",
   "execution_count": 22,
   "metadata": {},
   "outputs": [
    {
     "data": {
      "text/plain": [
       "CRIM       0\n",
       "ZN         0\n",
       "INDUS      0\n",
       "CHAS       0\n",
       "NOX        0\n",
       "RM         0\n",
       "AGE        0\n",
       "DIS        0\n",
       "RAD        0\n",
       "TAX        0\n",
       "PTRATIO    0\n",
       "B          0\n",
       "LSTAT      0\n",
       "MEDV       0\n",
       "dtype: int64"
      ]
     },
     "execution_count": 22,
     "metadata": {},
     "output_type": "execute_result"
    }
   ],
   "source": [
    "data.isna().sum()"
   ]
  },
  {
   "cell_type": "markdown",
   "metadata": {},
   "source": [
    "No faltan datos"
   ]
  },
  {
   "cell_type": "markdown",
   "metadata": {},
   "source": [
    "### <span style=\"color:green\">Procesamiento</span>"
   ]
  },
  {
   "cell_type": "markdown",
   "metadata": {},
   "source": [
    "Procedemos a dividir los datos en un 70% aleatorio para el entrenamiento y el resto para las pruebas."
   ]
  },
  {
   "cell_type": "code",
   "execution_count": 23,
   "metadata": {},
   "outputs": [],
   "source": [
    "train_dataset = data.sample(frac=0.7,random_state=0)\n",
    "test_dataset = data.drop(train_dataset.index)"
   ]
  },
  {
   "cell_type": "markdown",
   "metadata": {},
   "source": [
    "### <span style=\"color:green\">Inspección de los datos</span>"
   ]
  },
  {
   "cell_type": "code",
   "execution_count": 24,
   "metadata": {},
   "outputs": [
    {
     "data": {
      "text/plain": [
       "<seaborn.axisgrid.PairGrid at 0x1437c4cd0>"
      ]
     },
     "execution_count": 24,
     "metadata": {},
     "output_type": "execute_result"
    },
    {
     "data": {
      "image/png": "[encoded data removed]",
      "text/plain": [
       "<Figure size 900x900 with 30 Axes>"
      ]
     },
     "metadata": {
      "needs_background": "light"
     },
     "output_type": "display_data"
    }
   ],
   "source": [
    "sns.pairplot(train_dataset[[\"MEDV\", \"CRIM\",\"AGE\",\"DIS\",\"TAX\"]], diag_kind=\"kde\")"
   ]
  },
  {
   "cell_type": "markdown",
   "metadata": {},
   "source": [
    "### <span style=\"color:green\">Estadísticas generales</span>"
   ]
  },
  {
   "cell_type": "code",
   "execution_count": 25,
   "metadata": {},
   "outputs": [
    {
     "data": {
      "text/html": [
       "<div>\n",
       "<style scoped>\n",
       "    .dataframe tbody tr th:only-of-type {\n",
       "        vertical-align: middle;\n",
       "    }\n",
       "\n",
       "    .dataframe tbody tr th {\n",
       "        vertical-align: top;\n",
       "    }\n",
       "\n",
       "    .dataframe thead th {\n",
       "        text-align: right;\n",
       "    }\n",
       "</style>\n",
       "<table border=\"1\" class=\"dataframe\">\n",
       "  <thead>\n",
       "    <tr style=\"text-align: right;\">\n",
       "      <th></th>\n",
       "      <th>count</th>\n",
       "      <th>mean</th>\n",
       "      <th>std</th>\n",
       "      <th>min</th>\n",
       "      <th>25%</th>\n",
       "      <th>50%</th>\n",
       "      <th>75%</th>\n",
       "      <th>max</th>\n",
       "    </tr>\n",
       "  </thead>\n",
       "  <tbody>\n",
       "    <tr>\n",
       "      <th>CRIM</th>\n",
       "      <td>354.0</td>\n",
       "      <td>3.767375</td>\n",
       "      <td>9.418497</td>\n",
       "      <td>0.00906</td>\n",
       "      <td>0.082757</td>\n",
       "      <td>0.274475</td>\n",
       "      <td>3.077295</td>\n",
       "      <td>88.9762</td>\n",
       "    </tr>\n",
       "    <tr>\n",
       "      <th>ZN</th>\n",
       "      <td>354.0</td>\n",
       "      <td>11.079096</td>\n",
       "      <td>23.070178</td>\n",
       "      <td>0.00000</td>\n",
       "      <td>0.000000</td>\n",
       "      <td>0.000000</td>\n",
       "      <td>12.500000</td>\n",
       "      <td>95.0000</td>\n",
       "    </tr>\n",
       "    <tr>\n",
       "      <th>INDUS</th>\n",
       "      <td>354.0</td>\n",
       "      <td>11.185254</td>\n",
       "      <td>6.646944</td>\n",
       "      <td>0.74000</td>\n",
       "      <td>5.860000</td>\n",
       "      <td>9.795000</td>\n",
       "      <td>18.100000</td>\n",
       "      <td>27.7400</td>\n",
       "    </tr>\n",
       "    <tr>\n",
       "      <th>CHAS</th>\n",
       "      <td>354.0</td>\n",
       "      <td>0.070621</td>\n",
       "      <td>0.256554</td>\n",
       "      <td>0.00000</td>\n",
       "      <td>0.000000</td>\n",
       "      <td>0.000000</td>\n",
       "      <td>0.000000</td>\n",
       "      <td>1.0000</td>\n",
       "    </tr>\n",
       "    <tr>\n",
       "      <th>NOX</th>\n",
       "      <td>354.0</td>\n",
       "      <td>0.554098</td>\n",
       "      <td>0.115748</td>\n",
       "      <td>0.38500</td>\n",
       "      <td>0.453000</td>\n",
       "      <td>0.538000</td>\n",
       "      <td>0.624000</td>\n",
       "      <td>0.8710</td>\n",
       "    </tr>\n",
       "    <tr>\n",
       "      <th>RM</th>\n",
       "      <td>354.0</td>\n",
       "      <td>6.265791</td>\n",
       "      <td>0.699380</td>\n",
       "      <td>3.56100</td>\n",
       "      <td>5.878250</td>\n",
       "      <td>6.175000</td>\n",
       "      <td>6.605500</td>\n",
       "      <td>8.7800</td>\n",
       "    </tr>\n",
       "    <tr>\n",
       "      <th>AGE</th>\n",
       "      <td>354.0</td>\n",
       "      <td>68.057627</td>\n",
       "      <td>27.953167</td>\n",
       "      <td>6.00000</td>\n",
       "      <td>45.100000</td>\n",
       "      <td>76.500000</td>\n",
       "      <td>93.750000</td>\n",
       "      <td>100.0000</td>\n",
       "    </tr>\n",
       "    <tr>\n",
       "      <th>DIS</th>\n",
       "      <td>354.0</td>\n",
       "      <td>3.844439</td>\n",
       "      <td>2.187514</td>\n",
       "      <td>1.12960</td>\n",
       "      <td>2.073700</td>\n",
       "      <td>3.207450</td>\n",
       "      <td>5.214600</td>\n",
       "      <td>12.1265</td>\n",
       "    </tr>\n",
       "    <tr>\n",
       "      <th>RAD</th>\n",
       "      <td>354.0</td>\n",
       "      <td>9.440678</td>\n",
       "      <td>8.569207</td>\n",
       "      <td>1.00000</td>\n",
       "      <td>4.000000</td>\n",
       "      <td>5.000000</td>\n",
       "      <td>20.000000</td>\n",
       "      <td>24.0000</td>\n",
       "    </tr>\n",
       "    <tr>\n",
       "      <th>TAX</th>\n",
       "      <td>354.0</td>\n",
       "      <td>407.500000</td>\n",
       "      <td>162.296676</td>\n",
       "      <td>187.00000</td>\n",
       "      <td>287.000000</td>\n",
       "      <td>337.000000</td>\n",
       "      <td>666.000000</td>\n",
       "      <td>711.0000</td>\n",
       "    </tr>\n",
       "    <tr>\n",
       "      <th>PTRATIO</th>\n",
       "      <td>354.0</td>\n",
       "      <td>18.461299</td>\n",
       "      <td>2.149735</td>\n",
       "      <td>12.60000</td>\n",
       "      <td>17.325000</td>\n",
       "      <td>18.850000</td>\n",
       "      <td>20.200000</td>\n",
       "      <td>22.0000</td>\n",
       "    </tr>\n",
       "    <tr>\n",
       "      <th>B</th>\n",
       "      <td>354.0</td>\n",
       "      <td>352.720650</td>\n",
       "      <td>95.764288</td>\n",
       "      <td>2.60000</td>\n",
       "      <td>373.852500</td>\n",
       "      <td>390.945000</td>\n",
       "      <td>396.225000</td>\n",
       "      <td>396.9000</td>\n",
       "    </tr>\n",
       "    <tr>\n",
       "      <th>LSTAT</th>\n",
       "      <td>354.0</td>\n",
       "      <td>12.614011</td>\n",
       "      <td>7.020224</td>\n",
       "      <td>1.73000</td>\n",
       "      <td>7.347500</td>\n",
       "      <td>11.185000</td>\n",
       "      <td>16.635000</td>\n",
       "      <td>37.9700</td>\n",
       "    </tr>\n",
       "  </tbody>\n",
       "</table>\n",
       "</div>"
      ],
      "text/plain": [
       "         count        mean         std        min         25%         50%  \\\n",
       "CRIM     354.0    3.767375    9.418497    0.00906    0.082757    0.274475   \n",
       "ZN       354.0   11.079096   23.070178    0.00000    0.000000    0.000000   \n",
       "INDUS    354.0   11.185254    6.646944    0.74000    5.860000    9.795000   \n",
       "CHAS     354.0    0.070621    0.256554    0.00000    0.000000    0.000000   \n",
       "NOX      354.0    0.554098    0.115748    0.38500    0.453000    0.538000   \n",
       "RM       354.0    6.265791    0.699380    3.56100    5.878250    6.175000   \n",
       "AGE      354.0   68.057627   27.953167    6.00000   45.100000   76.500000   \n",
       "DIS      354.0    3.844439    2.187514    1.12960    2.073700    3.207450   \n",
       "RAD      354.0    9.440678    8.569207    1.00000    4.000000    5.000000   \n",
       "TAX      354.0  407.500000  162.296676  187.00000  287.000000  337.000000   \n",
       "PTRATIO  354.0   18.461299    2.149735   12.60000   17.325000   18.850000   \n",
       "B        354.0  352.720650   95.764288    2.60000  373.852500  390.945000   \n",
       "LSTAT    354.0   12.614011    7.020224    1.73000    7.347500   11.185000   \n",
       "\n",
       "                75%       max  \n",
       "CRIM       3.077295   88.9762  \n",
       "ZN        12.500000   95.0000  \n",
       "INDUS     18.100000   27.7400  \n",
       "CHAS       0.000000    1.0000  \n",
       "NOX        0.624000    0.8710  \n",
       "RM         6.605500    8.7800  \n",
       "AGE       93.750000  100.0000  \n",
       "DIS        5.214600   12.1265  \n",
       "RAD       20.000000   24.0000  \n",
       "TAX      666.000000  711.0000  \n",
       "PTRATIO   20.200000   22.0000  \n",
       "B        396.225000  396.9000  \n",
       "LSTAT     16.635000   37.9700  "
      ]
     },
     "execution_count": 25,
     "metadata": {},
     "output_type": "execute_result"
    }
   ],
   "source": [
    "train_stats = train_dataset.describe()\n",
    "train_stats.pop(\"MEDV\")\n",
    "train_stats = train_stats.transpose()\n",
    "train_stats"
   ]
  },
  {
   "cell_type": "markdown",
   "metadata": {},
   "source": [
    "### <span style=\"color:green\">Dividir entidades de etiquetas</span>"
   ]
  },
  {
   "cell_type": "markdown",
   "metadata": {},
   "source": [
    "Se separa el valor objetivo, o \"etiqueta\", de las características. Esta etiqueta es el valor que entrenará al modelo para predecir."
   ]
  },
  {
   "cell_type": "code",
   "execution_count": 26,
   "metadata": {},
   "outputs": [],
   "source": [
    "train_labels = train_dataset.pop('MEDV')\n",
    "test_labels = test_dataset.pop('MEDV')"
   ]
  },
  {
   "cell_type": "markdown",
   "metadata": {},
   "source": [
    "### <span style=\"color:green\">Normalizar los datos</span> "
   ]
  },
  {
   "cell_type": "markdown",
   "metadata": {},
   "source": [
    "Mire nuevamente el bloque `train_stats` anterior y observe cuán diferentes son los rangos de cada característica.\n",
    "\n",
    "Es una buena práctica normalizar las funciones que utilizan diferentes escalas y rangos.\n",
    "Aunque el modelo puede converger sin la normalización de características, dificulta el entrenamiento y hace que el modelo resultante dependa de la elección de las unidades utilizadas en la entrada.\n",
    "\n",
    "**Nota**: Aunque generamos intencionalmente estas estadísticas solo a partir del conjunto de datos de entrenamiento, estas estadísticas también se utilizarán para normalizar el conjunto de datos de prueba. Necesitamos hacer eso para proyectar el conjunto de datos de prueba en la misma distribución en la que se entrenó el modelo."
   ]
  },
  {
   "cell_type": "code",
   "execution_count": 27,
   "metadata": {},
   "outputs": [],
   "source": [
    "def norm(x):\n",
    "  return (x - train_stats['mean']) / train_stats['std']\n",
    "normed_train_data = norm(train_dataset)\n",
    "normed_test_data = norm(test_dataset)"
   ]
  },
  {
   "cell_type": "markdown",
   "metadata": {},
   "source": [
    "Estos datos normalizados son los que usaremos para entrenar el modelo.\n",
    "\n",
    "**Precaución:** Las estadísticas utilizadas para normalizar las entradas aquí (media y desviación estándar) deben aplicarse a cualquier otro dato que se alimente al modelo, junto con la codificación one-hot que hicimos anteriormente. Eso incluye el conjunto de prueba, así como los datos en vivo cuando el modelo se usa en producción."
   ]
  },
  {
   "cell_type": "markdown",
   "metadata": {},
   "source": [
    "### <span style=\"color:green\">El modelo de red neuronal</span> "
   ]
  },
  {
   "cell_type": "markdown",
   "metadata": {},
   "source": [
    "**Construcción del modelo**\n",
    "\n",
    "Usaremos un modelo `secuencial` con dos capas ocultas densamente conectadas y una capa de salida que devuelve un único valor continuo. Los pasos de construcción del modelo están envueltos en una función, `build_model`, ya que crearemos un segundo modelo más adelante."
   ]
  },
  {
   "cell_type": "code",
   "execution_count": 28,
   "metadata": {},
   "outputs": [],
   "source": [
    "def build_model():\n",
    "  model = keras.Sequential([\n",
    "    layers.Dense(64, activation='relu', input_shape=[len(train_dataset.keys())]),\n",
    "    layers.Dense(64, activation='relu'),\n",
    "    layers.Dense(1)\n",
    "  ])\n",
    "\n",
    "  optimizer = tf.keras.optimizers.RMSprop(0.001)\n",
    "\n",
    "  model.compile(loss='mse',\n",
    "                optimizer=optimizer,\n",
    "                metrics=['mae', 'mse'])\n",
    "  return model"
   ]
  },
  {
   "cell_type": "code",
   "execution_count": 29,
   "metadata": {},
   "outputs": [],
   "source": [
    "model = build_model();"
   ]
  },
  {
   "cell_type": "markdown",
   "metadata": {},
   "source": [
    "**Inspección el modelo**\n",
    "\n",
    "Se itiliza el método `.summary` para imprimir una descripción simple del modo"
   ]
  },
  {
   "cell_type": "code",
   "execution_count": 30,
   "metadata": {},
   "outputs": [
    {
     "name": "stdout",
     "output_type": "stream",
     "text": [
      "Model: \"sequential_1\"\n",
      "_________________________________________________________________\n",
      "Layer (type)                 Output Shape              Param #   \n",
      "=================================================================\n",
      "dense_3 (Dense)              (None, 64)                896       \n",
      "_________________________________________________________________\n",
      "dense_4 (Dense)              (None, 64)                4160      \n",
      "_________________________________________________________________\n",
      "dense_5 (Dense)              (None, 1)                 65        \n",
      "=================================================================\n",
      "Total params: 5,121\n",
      "Trainable params: 5,121\n",
      "Non-trainable params: 0\n",
      "_________________________________________________________________\n"
     ]
    }
   ],
   "source": [
    "model.summary()"
   ]
  },
  {
   "cell_type": "markdown",
   "metadata": {},
   "source": [
    "**Entrenamiento del modelo**\n",
    "\n",
    "Entrene el modelo durante 1000 epochs y registre la precisión de entrenamiento y validación en el objeto `history`."
   ]
  },
  {
   "cell_type": "code",
   "execution_count": 31,
   "metadata": {},
   "outputs": [
    {
     "name": "stdout",
     "output_type": "stream",
     "text": [
      "\n",
      "....................................................................................................\n",
      "....................................................................................................\n",
      "....................................................................................................\n",
      "....................................................................................................\n",
      "....................................................................................................\n",
      "....................................................................................................\n",
      "....................................................................................................\n",
      "....................................................................................................\n",
      "....................................................................................................\n",
      "...................................................................................................."
     ]
    }
   ],
   "source": [
    "class PrintDot(keras.callbacks.Callback):\n",
    "  def on_epoch_end(self, epoch, logs):\n",
    "    if epoch % 100 == 0: print('')\n",
    "    print('.', end='')\n",
    "\n",
    "EPOCHS = 1000\n",
    "\n",
    "history = model.fit(\n",
    "  normed_train_data, train_labels,\n",
    "  epochs=EPOCHS, validation_split = 0.2, verbose=0,\n",
    "  callbacks=[PrintDot()])"
   ]
  },
  {
   "cell_type": "markdown",
   "metadata": {},
   "source": [
    "Visualice el progreso de entrenamiento del modelo usando las estadísticas almacenadas en el objeto `history`."
   ]
  },
  {
   "cell_type": "code",
   "execution_count": 32,
   "metadata": {},
   "outputs": [
    {
     "data": {
      "text/html": [
       "<div>\n",
       "<style scoped>\n",
       "    .dataframe tbody tr th:only-of-type {\n",
       "        vertical-align: middle;\n",
       "    }\n",
       "\n",
       "    .dataframe tbody tr th {\n",
       "        vertical-align: top;\n",
       "    }\n",
       "\n",
       "    .dataframe thead th {\n",
       "        text-align: right;\n",
       "    }\n",
       "</style>\n",
       "<table border=\"1\" class=\"dataframe\">\n",
       "  <thead>\n",
       "    <tr style=\"text-align: right;\">\n",
       "      <th></th>\n",
       "      <th>loss</th>\n",
       "      <th>mae</th>\n",
       "      <th>mse</th>\n",
       "      <th>val_loss</th>\n",
       "      <th>val_mae</th>\n",
       "      <th>val_mse</th>\n",
       "      <th>epoch</th>\n",
       "    </tr>\n",
       "  </thead>\n",
       "  <tbody>\n",
       "    <tr>\n",
       "      <th>995</th>\n",
       "      <td>0.553338</td>\n",
       "      <td>0.530373</td>\n",
       "      <td>0.553338</td>\n",
       "      <td>39.259136</td>\n",
       "      <td>3.628232</td>\n",
       "      <td>39.259136</td>\n",
       "      <td>995</td>\n",
       "    </tr>\n",
       "    <tr>\n",
       "      <th>996</th>\n",
       "      <td>0.549932</td>\n",
       "      <td>0.508875</td>\n",
       "      <td>0.549932</td>\n",
       "      <td>37.249935</td>\n",
       "      <td>3.456911</td>\n",
       "      <td>37.249935</td>\n",
       "      <td>996</td>\n",
       "    </tr>\n",
       "    <tr>\n",
       "      <th>997</th>\n",
       "      <td>0.369769</td>\n",
       "      <td>0.413941</td>\n",
       "      <td>0.369769</td>\n",
       "      <td>40.504539</td>\n",
       "      <td>3.579015</td>\n",
       "      <td>40.504539</td>\n",
       "      <td>997</td>\n",
       "    </tr>\n",
       "    <tr>\n",
       "      <th>998</th>\n",
       "      <td>0.412083</td>\n",
       "      <td>0.459988</td>\n",
       "      <td>0.412083</td>\n",
       "      <td>40.523449</td>\n",
       "      <td>3.564987</td>\n",
       "      <td>40.523449</td>\n",
       "      <td>998</td>\n",
       "    </tr>\n",
       "    <tr>\n",
       "      <th>999</th>\n",
       "      <td>0.576848</td>\n",
       "      <td>0.599850</td>\n",
       "      <td>0.576848</td>\n",
       "      <td>46.278412</td>\n",
       "      <td>3.802371</td>\n",
       "      <td>46.278412</td>\n",
       "      <td>999</td>\n",
       "    </tr>\n",
       "  </tbody>\n",
       "</table>\n",
       "</div>"
      ],
      "text/plain": [
       "         loss       mae       mse   val_loss   val_mae    val_mse  epoch\n",
       "995  0.553338  0.530373  0.553338  39.259136  3.628232  39.259136    995\n",
       "996  0.549932  0.508875  0.549932  37.249935  3.456911  37.249935    996\n",
       "997  0.369769  0.413941  0.369769  40.504539  3.579015  40.504539    997\n",
       "998  0.412083  0.459988  0.412083  40.523449  3.564987  40.523449    998\n",
       "999  0.576848  0.599850  0.576848  46.278412  3.802371  46.278412    999"
      ]
     },
     "execution_count": 32,
     "metadata": {},
     "output_type": "execute_result"
    }
   ],
   "source": [
    "hist = pd.DataFrame(history.history)\n",
    "hist['epoch'] = history.epoch\n",
    "hist.tail()"
   ]
  },
  {
   "cell_type": "code",
   "execution_count": 33,
   "metadata": {},
   "outputs": [
    {
     "data": {
      "image/png": "[encoded data removed]",
      "text/plain": [
       "<Figure size 432x288 with 1 Axes>"
      ]
     },
     "metadata": {
      "needs_background": "light"
     },
     "output_type": "display_data"
    },
    {
     "data": {
      "image/png": "[encoded data removed]",
      "text/plain": [
       "<Figure size 432x288 with 1 Axes>"
      ]
     },
     "metadata": {
      "needs_background": "light"
     },
     "output_type": "display_data"
    }
   ],
   "source": [
    "def plot_history(history):\n",
    "  hist = pd.DataFrame(history.history)\n",
    "  hist['epoch'] = history.epoch\n",
    "\n",
    "  plt.figure()\n",
    "  plt.xlabel('Epoch')\n",
    "  plt.ylabel('Mean Abs Error [MEDV]]')\n",
    "  plt.plot(hist['epoch'], hist['mae'],\n",
    "           label='Train Error')\n",
    "  plt.plot(hist['epoch'], hist['val_mae'],\n",
    "           label = 'Val Error')\n",
    "  plt.ylim([0,5])\n",
    "  plt.legend()\n",
    "\n",
    "  plt.figure()\n",
    "  plt.xlabel('Epoch')\n",
    "  plt.ylabel('Mean Square Error [$MEDV^2$]')\n",
    "  plt.plot(hist['epoch'], hist['mse'],\n",
    "           label='Train Error')\n",
    "  plt.plot(hist['epoch'], hist['val_mse'],\n",
    "           label = 'Val Error')\n",
    "  plt.ylim([0,20])\n",
    "  plt.legend()\n",
    "  plt.show()\n",
    "\n",
    "\n",
    "plot_history(history)"
   ]
  },
  {
   "cell_type": "markdown",
   "metadata": {},
   "source": [
    "Este gráfico muestra poca mejora, o incluso degradación en el error de validación después de aproximadamente 100 épocas. Actualicemos la llamada `model.fit` para detener automáticamente el entrenamiento cuando el puntaje de validación no mejore. Utilizaremos una * devolución de llamada de EarlyStopping * que pruebe una condición de entrenamiento para cada época. Si transcurre una cantidad determinada de épocas sin mostrar mejoría, entonces detiene automáticamente el entrenamiento.\n",
    "\n",
    "Puedes obtener más información sobre esta devolución de llamada [Aca](https://www.tensorflow.org/versions/master/api_docs/python/tf/keras/callbacks/EarlyStopping)."
   ]
  },
  {
   "cell_type": "code",
   "execution_count": 34,
   "metadata": {},
   "outputs": [
    {
     "name": "stdout",
     "output_type": "stream",
     "text": [
      "\n",
      "....................................................................................................\n",
      "...."
     ]
    }
   ],
   "source": [
    "model = build_model()\n",
    "\n",
    "early_stop = keras.callbacks.EarlyStopping(monitor='val_loss', patience=10)\n",
    "\n",
    "history = model.fit(normed_train_data, train_labels, epochs=EPOCHS,\n",
    "                    validation_split = 0.2, verbose=0, callbacks=[early_stop, PrintDot()])"
   ]
  },
  {
   "cell_type": "markdown",
   "metadata": {},
   "source": [
    "Volvamos a trazar el historial para, con suerte, ver que el entrenamiento del modelo se detiene antes de que las cosas empeoren para los datos de validación."
   ]
  },
  {
   "cell_type": "code",
   "execution_count": 35,
   "metadata": {},
   "outputs": [
    {
     "data": {
      "image/png": "[encoded data removed]",
      "text/plain": [
       "<Figure size 432x288 with 1 Axes>"
      ]
     },
     "metadata": {
      "needs_background": "light"
     },
     "output_type": "display_data"
    },
    {
     "data": {
      "image/png": "[encoded data removed]",
      "text/plain": [
       "<Figure size 432x288 with 1 Axes>"
      ]
     },
     "metadata": {
      "needs_background": "light"
     },
     "output_type": "display_data"
    }
   ],
   "source": [
    "plot_history(history)\n"
   ]
  },
  {
   "cell_type": "markdown",
   "metadata": {},
   "source": [
    "Veamos qué tan bien generaliza el modelo al usar el conjunto **test**, que no usamos al entrenar el modelo. Esto nos dice qué tan bien podemos esperar que el modelo prediga cuándo lo usamos en el mundo real."
   ]
  },
  {
   "cell_type": "code",
   "execution_count": 36,
   "metadata": {},
   "outputs": [
    {
     "name": "stdout",
     "output_type": "stream",
     "text": [
      "5/5 - 0s - loss: 11.5928 - mae: 2.3638 - mse: 11.5928\n",
      "Testing set Mean Abs Error:  2.36 MEDV\n"
     ]
    }
   ],
   "source": [
    "loss, mae, mse = model.evaluate(normed_test_data, test_labels, verbose=2)\n",
    "\n",
    "print(\"Testing set Mean Abs Error: {:5.2f} MEDV\".format(mae))"
   ]
  },
  {
   "cell_type": "markdown",
   "metadata": {},
   "source": [
    "### <span style=\"color:green\"> Hacer predicciones</span> \n"
   ]
  },
  {
   "cell_type": "markdown",
   "metadata": {},
   "source": [
    "Finalmente, predecimos los valores de MEDV usando datos en el conjunto de pruebas (y también entrenamiento, que usaremos en el siguiente paso para calcular más métricas de error):"
   ]
  },
  {
   "cell_type": "code",
   "execution_count": 37,
   "metadata": {},
   "outputs": [
    {
     "data": {
      "image/png": "[encoded data removed]",
      "text/plain": [
       "<Figure size 432x288 with 1 Axes>"
      ]
     },
     "metadata": {
      "needs_background": "light"
     },
     "output_type": "display_data"
    }
   ],
   "source": [
    "test_predictions = model.predict(normed_test_data).flatten()\n",
    "train_predictions = model.predict(normed_train_data).flatten()\n",
    "\n",
    "plt.scatter(test_labels, test_predictions)\n",
    "plt.xlabel('True Values [MEDV]')\n",
    "plt.ylabel('Predictions [MEDV]')\n",
    "plt.axis('equal')\n",
    "plt.axis('square')\n",
    "plt.xlim([0,plt.xlim()[1]])\n",
    "plt.ylim([0,plt.ylim()[1]])\n",
    "_ = plt.plot([-100, 100], [-100, 100])"
   ]
  },
  {
   "cell_type": "markdown",
   "metadata": {},
   "source": [
    "Parece que nuestro modelo predice razonablemente bien. Echemos un vistazo a la distribución de errores."
   ]
  },
  {
   "cell_type": "markdown",
   "metadata": {},
   "source": [
    "### <span style=\"color:green\"> Análisis de errores</span> "
   ]
  },
  {
   "cell_type": "code",
   "execution_count": 38,
   "metadata": {},
   "outputs": [
    {
     "data": {
      "image/png": "[encoded data removed]",
      "text/plain": [
       "<Figure size 432x288 with 1 Axes>"
      ]
     },
     "metadata": {
      "needs_background": "light"
     },
     "output_type": "display_data"
    }
   ],
   "source": [
    "error = test_predictions - test_labels\n",
    "plt.hist(error, bins = 25)\n",
    "plt.xlabel(\"Prediction Error [MEDV]\")\n",
    "_ = plt.ylabel(\"Count\")"
   ]
  },
  {
   "cell_type": "markdown",
   "metadata": {},
   "source": [
    "No es del todo gaussiano, pero podríamos esperar eso porque el número de muestras es muy pequeño."
   ]
  },
  {
   "cell_type": "code",
   "execution_count": null,
   "metadata": {},
   "outputs": [],
   "source": []
  },
  {
   "cell_type": "code",
   "execution_count": null,
   "metadata": {},
   "outputs": [],
   "source": []
  }
 ],
 "metadata": {
  "kernelspec": {
   "display_name": "Python 3",
   "language": "python",
   "name": "python3"
  },
  "language_info": {
   "codemirror_mode": {
    "name": "ipython",
    "version": 3
   },
   "file_extension": ".py",
   "mimetype": "text/x-python",
   "name": "python",
   "nbconvert_exporter": "python",
   "pygments_lexer": "ipython3",
   "version": "3.8.5"
  }
 },
 "nbformat": 4,
 "nbformat_minor": 4
}
